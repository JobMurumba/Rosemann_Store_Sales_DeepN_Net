{
 "cells": [
  {
   "cell_type": "markdown",
   "metadata": {},
   "source": [
    "Examples of problem solving frameworks :situation complication resolution and situation complication Question\n",
    "    SCQ divides each problem divides each question into three groups and expands each with the right question\n",
    "    and finally connects with the desired future state:\n",
    "        desired future state - the end state we want to reach when problem is solved\n",
    "        situation - a problem statement\n",
    "        complication - major roadblock that hinders stakeholders transition from current state to desired state\n",
    "        Question - key question that needs to be answered to mitigate road block\n",
    "        \n",
    "        current situation - marketing team wants to design promotion campaigns to increase sales but the visibillity\n",
    "        of future sales not clear makes the design compicated and less effective for stores expected to perfom poorly\n",
    "        complication - the team lacks the tools to estimate future store sales\n",
    "        Question - how can we estimate future sales\n",
    "        desired future state - the marketing team have means to forecast sales thus design promotional campaigns"
   ]
  },
  {
   "cell_type": "code",
   "execution_count": 1,
   "metadata": {},
   "outputs": [
    {
     "name": "stdout",
     "output_type": "stream",
     "text": [
      "(1017209, 9)\n"
     ]
    },
    {
     "name": "stderr",
     "output_type": "stream",
     "text": [
      "/home/jobmurumba/anaconda3/lib/python3.8/site-packages/IPython/core/interactiveshell.py:3071: DtypeWarning: Columns (7) have mixed types.Specify dtype option on import or set low_memory=False.\n",
      "  has_raised = await self.run_ast_nodes(code_ast.body, cell_name,\n"
     ]
    },
    {
     "data": {
      "text/html": [
       "<div>\n",
       "<style scoped>\n",
       "    .dataframe tbody tr th:only-of-type {\n",
       "        vertical-align: middle;\n",
       "    }\n",
       "\n",
       "    .dataframe tbody tr th {\n",
       "        vertical-align: top;\n",
       "    }\n",
       "\n",
       "    .dataframe thead th {\n",
       "        text-align: right;\n",
       "    }\n",
       "</style>\n",
       "<table border=\"1\" class=\"dataframe\">\n",
       "  <thead>\n",
       "    <tr style=\"text-align: right;\">\n",
       "      <th></th>\n",
       "      <th>Store</th>\n",
       "      <th>DayOfWeek</th>\n",
       "      <th>Date</th>\n",
       "      <th>Sales</th>\n",
       "      <th>Customers</th>\n",
       "      <th>Open</th>\n",
       "      <th>Promo</th>\n",
       "      <th>StateHoliday</th>\n",
       "      <th>SchoolHoliday</th>\n",
       "    </tr>\n",
       "  </thead>\n",
       "  <tbody>\n",
       "    <tr>\n",
       "      <th>0</th>\n",
       "      <td>1</td>\n",
       "      <td>5</td>\n",
       "      <td>2015-07-31</td>\n",
       "      <td>5263</td>\n",
       "      <td>555</td>\n",
       "      <td>1</td>\n",
       "      <td>1</td>\n",
       "      <td>0</td>\n",
       "      <td>1</td>\n",
       "    </tr>\n",
       "    <tr>\n",
       "      <th>1</th>\n",
       "      <td>2</td>\n",
       "      <td>5</td>\n",
       "      <td>2015-07-31</td>\n",
       "      <td>6064</td>\n",
       "      <td>625</td>\n",
       "      <td>1</td>\n",
       "      <td>1</td>\n",
       "      <td>0</td>\n",
       "      <td>1</td>\n",
       "    </tr>\n",
       "    <tr>\n",
       "      <th>2</th>\n",
       "      <td>3</td>\n",
       "      <td>5</td>\n",
       "      <td>2015-07-31</td>\n",
       "      <td>8314</td>\n",
       "      <td>821</td>\n",
       "      <td>1</td>\n",
       "      <td>1</td>\n",
       "      <td>0</td>\n",
       "      <td>1</td>\n",
       "    </tr>\n",
       "    <tr>\n",
       "      <th>3</th>\n",
       "      <td>4</td>\n",
       "      <td>5</td>\n",
       "      <td>2015-07-31</td>\n",
       "      <td>13995</td>\n",
       "      <td>1498</td>\n",
       "      <td>1</td>\n",
       "      <td>1</td>\n",
       "      <td>0</td>\n",
       "      <td>1</td>\n",
       "    </tr>\n",
       "    <tr>\n",
       "      <th>4</th>\n",
       "      <td>5</td>\n",
       "      <td>5</td>\n",
       "      <td>2015-07-31</td>\n",
       "      <td>4822</td>\n",
       "      <td>559</td>\n",
       "      <td>1</td>\n",
       "      <td>1</td>\n",
       "      <td>0</td>\n",
       "      <td>1</td>\n",
       "    </tr>\n",
       "  </tbody>\n",
       "</table>\n",
       "</div>"
      ],
      "text/plain": [
       "   Store  DayOfWeek        Date  Sales  Customers  Open  Promo StateHoliday  \\\n",
       "0      1          5  2015-07-31   5263        555     1      1            0   \n",
       "1      2          5  2015-07-31   6064        625     1      1            0   \n",
       "2      3          5  2015-07-31   8314        821     1      1            0   \n",
       "3      4          5  2015-07-31  13995       1498     1      1            0   \n",
       "4      5          5  2015-07-31   4822        559     1      1            0   \n",
       "\n",
       "   SchoolHoliday  \n",
       "0              1  \n",
       "1              1  \n",
       "2              1  \n",
       "3              1  \n",
       "4              1  "
      ]
     },
     "execution_count": 1,
     "metadata": {},
     "output_type": "execute_result"
    }
   ],
   "source": [
    "import pandas as pd\n",
    "df= pd.read_csv('train.csv')\n",
    "print(df.shape)\n",
    "df.head(5)"
   ]
  },
  {
   "cell_type": "code",
   "execution_count": 3,
   "metadata": {},
   "outputs": [
    {
     "name": "stdout",
     "output_type": "stream",
     "text": [
      "(1115, 10)\n"
     ]
    },
    {
     "data": {
      "text/html": [
       "<div>\n",
       "<style scoped>\n",
       "    .dataframe tbody tr th:only-of-type {\n",
       "        vertical-align: middle;\n",
       "    }\n",
       "\n",
       "    .dataframe tbody tr th {\n",
       "        vertical-align: top;\n",
       "    }\n",
       "\n",
       "    .dataframe thead th {\n",
       "        text-align: right;\n",
       "    }\n",
       "</style>\n",
       "<table border=\"1\" class=\"dataframe\">\n",
       "  <thead>\n",
       "    <tr style=\"text-align: right;\">\n",
       "      <th></th>\n",
       "      <th>Store</th>\n",
       "      <th>StoreType</th>\n",
       "      <th>Assortment</th>\n",
       "      <th>CompetitionDistance</th>\n",
       "      <th>CompetitionOpenSinceMonth</th>\n",
       "      <th>CompetitionOpenSinceYear</th>\n",
       "      <th>Promo2</th>\n",
       "      <th>Promo2SinceWeek</th>\n",
       "      <th>Promo2SinceYear</th>\n",
       "      <th>PromoInterval</th>\n",
       "    </tr>\n",
       "  </thead>\n",
       "  <tbody>\n",
       "    <tr>\n",
       "      <th>0</th>\n",
       "      <td>1</td>\n",
       "      <td>c</td>\n",
       "      <td>a</td>\n",
       "      <td>1270.0</td>\n",
       "      <td>9.0</td>\n",
       "      <td>2008.0</td>\n",
       "      <td>0</td>\n",
       "      <td>NaN</td>\n",
       "      <td>NaN</td>\n",
       "      <td>NaN</td>\n",
       "    </tr>\n",
       "    <tr>\n",
       "      <th>1</th>\n",
       "      <td>2</td>\n",
       "      <td>a</td>\n",
       "      <td>a</td>\n",
       "      <td>570.0</td>\n",
       "      <td>11.0</td>\n",
       "      <td>2007.0</td>\n",
       "      <td>1</td>\n",
       "      <td>13.0</td>\n",
       "      <td>2010.0</td>\n",
       "      <td>Jan,Apr,Jul,Oct</td>\n",
       "    </tr>\n",
       "    <tr>\n",
       "      <th>2</th>\n",
       "      <td>3</td>\n",
       "      <td>a</td>\n",
       "      <td>a</td>\n",
       "      <td>14130.0</td>\n",
       "      <td>12.0</td>\n",
       "      <td>2006.0</td>\n",
       "      <td>1</td>\n",
       "      <td>14.0</td>\n",
       "      <td>2011.0</td>\n",
       "      <td>Jan,Apr,Jul,Oct</td>\n",
       "    </tr>\n",
       "    <tr>\n",
       "      <th>3</th>\n",
       "      <td>4</td>\n",
       "      <td>c</td>\n",
       "      <td>c</td>\n",
       "      <td>620.0</td>\n",
       "      <td>9.0</td>\n",
       "      <td>2009.0</td>\n",
       "      <td>0</td>\n",
       "      <td>NaN</td>\n",
       "      <td>NaN</td>\n",
       "      <td>NaN</td>\n",
       "    </tr>\n",
       "    <tr>\n",
       "      <th>4</th>\n",
       "      <td>5</td>\n",
       "      <td>a</td>\n",
       "      <td>a</td>\n",
       "      <td>29910.0</td>\n",
       "      <td>4.0</td>\n",
       "      <td>2015.0</td>\n",
       "      <td>0</td>\n",
       "      <td>NaN</td>\n",
       "      <td>NaN</td>\n",
       "      <td>NaN</td>\n",
       "    </tr>\n",
       "  </tbody>\n",
       "</table>\n",
       "</div>"
      ],
      "text/plain": [
       "   Store StoreType Assortment  CompetitionDistance  CompetitionOpenSinceMonth  \\\n",
       "0      1         c          a               1270.0                        9.0   \n",
       "1      2         a          a                570.0                       11.0   \n",
       "2      3         a          a              14130.0                       12.0   \n",
       "3      4         c          c                620.0                        9.0   \n",
       "4      5         a          a              29910.0                        4.0   \n",
       "\n",
       "   CompetitionOpenSinceYear  Promo2  Promo2SinceWeek  Promo2SinceYear  \\\n",
       "0                    2008.0       0              NaN              NaN   \n",
       "1                    2007.0       1             13.0           2010.0   \n",
       "2                    2006.0       1             14.0           2011.0   \n",
       "3                    2009.0       0              NaN              NaN   \n",
       "4                    2015.0       0              NaN              NaN   \n",
       "\n",
       "     PromoInterval  \n",
       "0              NaN  \n",
       "1  Jan,Apr,Jul,Oct  \n",
       "2  Jan,Apr,Jul,Oct  \n",
       "3              NaN  \n",
       "4              NaN  "
      ]
     },
     "execution_count": 3,
     "metadata": {},
     "output_type": "execute_result"
    }
   ],
   "source": [
    "#cross sectional data -samples have no time based relationship.opposite time series\n",
    "store = pd.read_csv('store.csv')\n",
    "print(store.shape)\n",
    "store.head(5)"
   ]
  },
  {
   "cell_type": "code",
   "execution_count": 9,
   "metadata": {},
   "outputs": [
    {
     "name": "stdout",
     "output_type": "stream",
     "text": [
      "1115\n"
     ]
    },
    {
     "data": {
      "text/html": [
       "<div>\n",
       "<style scoped>\n",
       "    .dataframe tbody tr th:only-of-type {\n",
       "        vertical-align: middle;\n",
       "    }\n",
       "\n",
       "    .dataframe tbody tr th {\n",
       "        vertical-align: top;\n",
       "    }\n",
       "\n",
       "    .dataframe thead th {\n",
       "        text-align: right;\n",
       "    }\n",
       "</style>\n",
       "<table border=\"1\" class=\"dataframe\">\n",
       "  <thead>\n",
       "    <tr style=\"text-align: right;\">\n",
       "      <th></th>\n",
       "      <th>Store</th>\n",
       "      <th>DayOfWeek</th>\n",
       "      <th>Date</th>\n",
       "      <th>Sales</th>\n",
       "      <th>Customers</th>\n",
       "      <th>Open</th>\n",
       "      <th>Promo</th>\n",
       "      <th>StateHoliday</th>\n",
       "      <th>SchoolHoliday</th>\n",
       "      <th>StoreType</th>\n",
       "      <th>Assortment</th>\n",
       "      <th>CompetitionDistance</th>\n",
       "      <th>CompetitionOpenSinceMonth</th>\n",
       "      <th>CompetitionOpenSinceYear</th>\n",
       "      <th>Promo2</th>\n",
       "      <th>Promo2SinceWeek</th>\n",
       "      <th>Promo2SinceYear</th>\n",
       "      <th>PromoInterval</th>\n",
       "    </tr>\n",
       "  </thead>\n",
       "  <tbody>\n",
       "    <tr>\n",
       "      <th>0</th>\n",
       "      <td>1</td>\n",
       "      <td>5</td>\n",
       "      <td>2015-07-31</td>\n",
       "      <td>5263</td>\n",
       "      <td>555</td>\n",
       "      <td>1</td>\n",
       "      <td>1</td>\n",
       "      <td>0</td>\n",
       "      <td>1</td>\n",
       "      <td>c</td>\n",
       "      <td>a</td>\n",
       "      <td>1270.0</td>\n",
       "      <td>9.0</td>\n",
       "      <td>2008.0</td>\n",
       "      <td>0</td>\n",
       "      <td>NaN</td>\n",
       "      <td>NaN</td>\n",
       "      <td>NaN</td>\n",
       "    </tr>\n",
       "    <tr>\n",
       "      <th>1</th>\n",
       "      <td>1</td>\n",
       "      <td>4</td>\n",
       "      <td>2015-07-30</td>\n",
       "      <td>5020</td>\n",
       "      <td>546</td>\n",
       "      <td>1</td>\n",
       "      <td>1</td>\n",
       "      <td>0</td>\n",
       "      <td>1</td>\n",
       "      <td>c</td>\n",
       "      <td>a</td>\n",
       "      <td>1270.0</td>\n",
       "      <td>9.0</td>\n",
       "      <td>2008.0</td>\n",
       "      <td>0</td>\n",
       "      <td>NaN</td>\n",
       "      <td>NaN</td>\n",
       "      <td>NaN</td>\n",
       "    </tr>\n",
       "    <tr>\n",
       "      <th>2</th>\n",
       "      <td>1</td>\n",
       "      <td>3</td>\n",
       "      <td>2015-07-29</td>\n",
       "      <td>4782</td>\n",
       "      <td>523</td>\n",
       "      <td>1</td>\n",
       "      <td>1</td>\n",
       "      <td>0</td>\n",
       "      <td>1</td>\n",
       "      <td>c</td>\n",
       "      <td>a</td>\n",
       "      <td>1270.0</td>\n",
       "      <td>9.0</td>\n",
       "      <td>2008.0</td>\n",
       "      <td>0</td>\n",
       "      <td>NaN</td>\n",
       "      <td>NaN</td>\n",
       "      <td>NaN</td>\n",
       "    </tr>\n",
       "    <tr>\n",
       "      <th>3</th>\n",
       "      <td>1</td>\n",
       "      <td>2</td>\n",
       "      <td>2015-07-28</td>\n",
       "      <td>5011</td>\n",
       "      <td>560</td>\n",
       "      <td>1</td>\n",
       "      <td>1</td>\n",
       "      <td>0</td>\n",
       "      <td>1</td>\n",
       "      <td>c</td>\n",
       "      <td>a</td>\n",
       "      <td>1270.0</td>\n",
       "      <td>9.0</td>\n",
       "      <td>2008.0</td>\n",
       "      <td>0</td>\n",
       "      <td>NaN</td>\n",
       "      <td>NaN</td>\n",
       "      <td>NaN</td>\n",
       "    </tr>\n",
       "    <tr>\n",
       "      <th>4</th>\n",
       "      <td>1</td>\n",
       "      <td>1</td>\n",
       "      <td>2015-07-27</td>\n",
       "      <td>6102</td>\n",
       "      <td>612</td>\n",
       "      <td>1</td>\n",
       "      <td>1</td>\n",
       "      <td>0</td>\n",
       "      <td>1</td>\n",
       "      <td>c</td>\n",
       "      <td>a</td>\n",
       "      <td>1270.0</td>\n",
       "      <td>9.0</td>\n",
       "      <td>2008.0</td>\n",
       "      <td>0</td>\n",
       "      <td>NaN</td>\n",
       "      <td>NaN</td>\n",
       "      <td>NaN</td>\n",
       "    </tr>\n",
       "    <tr>\n",
       "      <th>...</th>\n",
       "      <td>...</td>\n",
       "      <td>...</td>\n",
       "      <td>...</td>\n",
       "      <td>...</td>\n",
       "      <td>...</td>\n",
       "      <td>...</td>\n",
       "      <td>...</td>\n",
       "      <td>...</td>\n",
       "      <td>...</td>\n",
       "      <td>...</td>\n",
       "      <td>...</td>\n",
       "      <td>...</td>\n",
       "      <td>...</td>\n",
       "      <td>...</td>\n",
       "      <td>...</td>\n",
       "      <td>...</td>\n",
       "      <td>...</td>\n",
       "      <td>...</td>\n",
       "    </tr>\n",
       "    <tr>\n",
       "      <th>1017204</th>\n",
       "      <td>1115</td>\n",
       "      <td>6</td>\n",
       "      <td>2013-01-05</td>\n",
       "      <td>4771</td>\n",
       "      <td>339</td>\n",
       "      <td>1</td>\n",
       "      <td>0</td>\n",
       "      <td>0</td>\n",
       "      <td>1</td>\n",
       "      <td>d</td>\n",
       "      <td>c</td>\n",
       "      <td>5350.0</td>\n",
       "      <td>NaN</td>\n",
       "      <td>NaN</td>\n",
       "      <td>1</td>\n",
       "      <td>22.0</td>\n",
       "      <td>2012.0</td>\n",
       "      <td>Mar,Jun,Sept,Dec</td>\n",
       "    </tr>\n",
       "    <tr>\n",
       "      <th>1017205</th>\n",
       "      <td>1115</td>\n",
       "      <td>5</td>\n",
       "      <td>2013-01-04</td>\n",
       "      <td>4540</td>\n",
       "      <td>326</td>\n",
       "      <td>1</td>\n",
       "      <td>0</td>\n",
       "      <td>0</td>\n",
       "      <td>1</td>\n",
       "      <td>d</td>\n",
       "      <td>c</td>\n",
       "      <td>5350.0</td>\n",
       "      <td>NaN</td>\n",
       "      <td>NaN</td>\n",
       "      <td>1</td>\n",
       "      <td>22.0</td>\n",
       "      <td>2012.0</td>\n",
       "      <td>Mar,Jun,Sept,Dec</td>\n",
       "    </tr>\n",
       "    <tr>\n",
       "      <th>1017206</th>\n",
       "      <td>1115</td>\n",
       "      <td>4</td>\n",
       "      <td>2013-01-03</td>\n",
       "      <td>4297</td>\n",
       "      <td>300</td>\n",
       "      <td>1</td>\n",
       "      <td>0</td>\n",
       "      <td>0</td>\n",
       "      <td>1</td>\n",
       "      <td>d</td>\n",
       "      <td>c</td>\n",
       "      <td>5350.0</td>\n",
       "      <td>NaN</td>\n",
       "      <td>NaN</td>\n",
       "      <td>1</td>\n",
       "      <td>22.0</td>\n",
       "      <td>2012.0</td>\n",
       "      <td>Mar,Jun,Sept,Dec</td>\n",
       "    </tr>\n",
       "    <tr>\n",
       "      <th>1017207</th>\n",
       "      <td>1115</td>\n",
       "      <td>3</td>\n",
       "      <td>2013-01-02</td>\n",
       "      <td>3697</td>\n",
       "      <td>305</td>\n",
       "      <td>1</td>\n",
       "      <td>0</td>\n",
       "      <td>0</td>\n",
       "      <td>1</td>\n",
       "      <td>d</td>\n",
       "      <td>c</td>\n",
       "      <td>5350.0</td>\n",
       "      <td>NaN</td>\n",
       "      <td>NaN</td>\n",
       "      <td>1</td>\n",
       "      <td>22.0</td>\n",
       "      <td>2012.0</td>\n",
       "      <td>Mar,Jun,Sept,Dec</td>\n",
       "    </tr>\n",
       "    <tr>\n",
       "      <th>1017208</th>\n",
       "      <td>1115</td>\n",
       "      <td>2</td>\n",
       "      <td>2013-01-01</td>\n",
       "      <td>0</td>\n",
       "      <td>0</td>\n",
       "      <td>0</td>\n",
       "      <td>0</td>\n",
       "      <td>a</td>\n",
       "      <td>1</td>\n",
       "      <td>d</td>\n",
       "      <td>c</td>\n",
       "      <td>5350.0</td>\n",
       "      <td>NaN</td>\n",
       "      <td>NaN</td>\n",
       "      <td>1</td>\n",
       "      <td>22.0</td>\n",
       "      <td>2012.0</td>\n",
       "      <td>Mar,Jun,Sept,Dec</td>\n",
       "    </tr>\n",
       "  </tbody>\n",
       "</table>\n",
       "<p>1017209 rows × 18 columns</p>\n",
       "</div>"
      ],
      "text/plain": [
       "         Store  DayOfWeek        Date  Sales  Customers  Open  Promo  \\\n",
       "0            1          5  2015-07-31   5263        555     1      1   \n",
       "1            1          4  2015-07-30   5020        546     1      1   \n",
       "2            1          3  2015-07-29   4782        523     1      1   \n",
       "3            1          2  2015-07-28   5011        560     1      1   \n",
       "4            1          1  2015-07-27   6102        612     1      1   \n",
       "...        ...        ...         ...    ...        ...   ...    ...   \n",
       "1017204   1115          6  2013-01-05   4771        339     1      0   \n",
       "1017205   1115          5  2013-01-04   4540        326     1      0   \n",
       "1017206   1115          4  2013-01-03   4297        300     1      0   \n",
       "1017207   1115          3  2013-01-02   3697        305     1      0   \n",
       "1017208   1115          2  2013-01-01      0          0     0      0   \n",
       "\n",
       "        StateHoliday  SchoolHoliday StoreType Assortment  CompetitionDistance  \\\n",
       "0                  0              1         c          a               1270.0   \n",
       "1                  0              1         c          a               1270.0   \n",
       "2                  0              1         c          a               1270.0   \n",
       "3                  0              1         c          a               1270.0   \n",
       "4                  0              1         c          a               1270.0   \n",
       "...              ...            ...       ...        ...                  ...   \n",
       "1017204            0              1         d          c               5350.0   \n",
       "1017205            0              1         d          c               5350.0   \n",
       "1017206            0              1         d          c               5350.0   \n",
       "1017207            0              1         d          c               5350.0   \n",
       "1017208            a              1         d          c               5350.0   \n",
       "\n",
       "         CompetitionOpenSinceMonth  CompetitionOpenSinceYear  Promo2  \\\n",
       "0                              9.0                    2008.0       0   \n",
       "1                              9.0                    2008.0       0   \n",
       "2                              9.0                    2008.0       0   \n",
       "3                              9.0                    2008.0       0   \n",
       "4                              9.0                    2008.0       0   \n",
       "...                            ...                       ...     ...   \n",
       "1017204                        NaN                       NaN       1   \n",
       "1017205                        NaN                       NaN       1   \n",
       "1017206                        NaN                       NaN       1   \n",
       "1017207                        NaN                       NaN       1   \n",
       "1017208                        NaN                       NaN       1   \n",
       "\n",
       "         Promo2SinceWeek  Promo2SinceYear     PromoInterval  \n",
       "0                    NaN              NaN               NaN  \n",
       "1                    NaN              NaN               NaN  \n",
       "2                    NaN              NaN               NaN  \n",
       "3                    NaN              NaN               NaN  \n",
       "4                    NaN              NaN               NaN  \n",
       "...                  ...              ...               ...  \n",
       "1017204             22.0           2012.0  Mar,Jun,Sept,Dec  \n",
       "1017205             22.0           2012.0  Mar,Jun,Sept,Dec  \n",
       "1017206             22.0           2012.0  Mar,Jun,Sept,Dec  \n",
       "1017207             22.0           2012.0  Mar,Jun,Sept,Dec  \n",
       "1017208             22.0           2012.0  Mar,Jun,Sept,Dec  \n",
       "\n",
       "[1017209 rows x 18 columns]"
      ]
     },
     "execution_count": 9,
     "metadata": {},
     "output_type": "execute_result"
    }
   ],
   "source": [
    "print(df['Store'].max())\n",
    "df_new=df.merge(store,on=['Store'],how='inner')\n",
    "df_new"
   ]
  },
  {
   "cell_type": "code",
   "execution_count": 15,
   "metadata": {},
   "outputs": [
    {
     "name": "stdout",
     "output_type": "stream",
     "text": [
      "Distinctict number of stores:1115\n",
      "Disticnct number of days available:942\n",
      "Average daily sales of all stores:5773.82\n"
     ]
    }
   ],
   "source": [
    "print(\"Distinctict number of stores:{}\".format(len((df_new['Store'].unique()))))\n",
    "print('Disticnct number of days available:{}'.format(len(df_new['Date'].unique())))\n",
    "print(\"Average daily sales of all stores:{}\".format(round(df_new['Sales'].mean(),2)))"
   ]
  },
  {
   "cell_type": "code",
   "execution_count": 16,
   "metadata": {},
   "outputs": [
    {
     "data": {
      "text/plain": [
       "Store                          int64\n",
       "DayOfWeek                      int64\n",
       "Date                          object\n",
       "Sales                          int64\n",
       "Customers                      int64\n",
       "Open                           int64\n",
       "Promo                          int64\n",
       "StateHoliday                  object\n",
       "SchoolHoliday                  int64\n",
       "StoreType                     object\n",
       "Assortment                    object\n",
       "CompetitionDistance          float64\n",
       "CompetitionOpenSinceMonth    float64\n",
       "CompetitionOpenSinceYear     float64\n",
       "Promo2                         int64\n",
       "Promo2SinceWeek              float64\n",
       "Promo2SinceYear              float64\n",
       "PromoInterval                 object\n",
       "dtype: object"
      ]
     },
     "execution_count": 16,
     "metadata": {},
     "output_type": "execute_result"
    }
   ],
   "source": [
    "#finding data types\n",
    "df_new.dtypes"
   ]
  },
  {
   "cell_type": "code",
   "execution_count": 17,
   "metadata": {},
   "outputs": [
    {
     "data": {
      "text/plain": [
       "5    145845\n",
       "4    145845\n",
       "3    145665\n",
       "2    145664\n",
       "7    144730\n",
       "6    144730\n",
       "1    144730\n",
       "Name: DayOfWeek, dtype: int64"
      ]
     },
     "execution_count": 17,
     "metadata": {},
     "output_type": "execute_result"
    }
   ],
   "source": [
    "df_new['DayOfWeek'].value_counts()"
   ]
  },
  {
   "cell_type": "code",
   "execution_count": 26,
   "metadata": {},
   "outputs": [],
   "source": [
    "#extract all date properties from datetime datatype\n",
    "#in python object is basically a  character\n",
    "import numpy as np\n",
    "df_new['Date']=pd.to_datetime(df_new['Date'],infer_datetime_format=True)\n",
    "df_new['Month']=df_new['Date'].dt.month\n",
    "df_new['Quarter']=df_new['Date'].dt.quarter\n",
    "df_new['Year'] = df_new['Date'].dt.year\n",
    "df_new['Day'] = df_new['Date'].dt.day\n",
    "df_new['Week']=df_new['Date'].dt.week\n",
    "df_new['Season'] =np.where(df_new['Month'].isin([3,4,5]),\"Spring\",np.where(df_new['Month'].isin([6,7,8]),\"Summer\",\n",
    "                  np.where(df_new['Month'].isin([9,10,11]),\"Fall\",np.where(df_new['Month'].isin([12,1,2]),\"Winter\",\"None\"))))"
   ]
  },
  {
   "cell_type": "code",
   "execution_count": 28,
   "metadata": {},
   "outputs": [
    {
     "data": {
      "text/html": [
       "<div>\n",
       "<style scoped>\n",
       "    .dataframe tbody tr th:only-of-type {\n",
       "        vertical-align: middle;\n",
       "    }\n",
       "\n",
       "    .dataframe tbody tr th {\n",
       "        vertical-align: top;\n",
       "    }\n",
       "\n",
       "    .dataframe thead th {\n",
       "        text-align: right;\n",
       "    }\n",
       "</style>\n",
       "<table border=\"1\" class=\"dataframe\">\n",
       "  <thead>\n",
       "    <tr style=\"text-align: right;\">\n",
       "      <th></th>\n",
       "      <th>Date</th>\n",
       "      <th>Year</th>\n",
       "      <th>Month</th>\n",
       "      <th>Day</th>\n",
       "      <th>Week</th>\n",
       "      <th>Quarter</th>\n",
       "      <th>Season</th>\n",
       "    </tr>\n",
       "  </thead>\n",
       "  <tbody>\n",
       "    <tr>\n",
       "      <th>0</th>\n",
       "      <td>2015-07-31</td>\n",
       "      <td>2015</td>\n",
       "      <td>7</td>\n",
       "      <td>31</td>\n",
       "      <td>31</td>\n",
       "      <td>3</td>\n",
       "      <td>Summer</td>\n",
       "    </tr>\n",
       "    <tr>\n",
       "      <th>1</th>\n",
       "      <td>2015-07-30</td>\n",
       "      <td>2015</td>\n",
       "      <td>7</td>\n",
       "      <td>30</td>\n",
       "      <td>31</td>\n",
       "      <td>3</td>\n",
       "      <td>Summer</td>\n",
       "    </tr>\n",
       "    <tr>\n",
       "      <th>2</th>\n",
       "      <td>2015-07-29</td>\n",
       "      <td>2015</td>\n",
       "      <td>7</td>\n",
       "      <td>29</td>\n",
       "      <td>31</td>\n",
       "      <td>3</td>\n",
       "      <td>Summer</td>\n",
       "    </tr>\n",
       "    <tr>\n",
       "      <th>3</th>\n",
       "      <td>2015-07-28</td>\n",
       "      <td>2015</td>\n",
       "      <td>7</td>\n",
       "      <td>28</td>\n",
       "      <td>31</td>\n",
       "      <td>3</td>\n",
       "      <td>Summer</td>\n",
       "    </tr>\n",
       "    <tr>\n",
       "      <th>4</th>\n",
       "      <td>2015-07-27</td>\n",
       "      <td>2015</td>\n",
       "      <td>7</td>\n",
       "      <td>27</td>\n",
       "      <td>31</td>\n",
       "      <td>3</td>\n",
       "      <td>Summer</td>\n",
       "    </tr>\n",
       "    <tr>\n",
       "      <th>...</th>\n",
       "      <td>...</td>\n",
       "      <td>...</td>\n",
       "      <td>...</td>\n",
       "      <td>...</td>\n",
       "      <td>...</td>\n",
       "      <td>...</td>\n",
       "      <td>...</td>\n",
       "    </tr>\n",
       "    <tr>\n",
       "      <th>1017204</th>\n",
       "      <td>2013-01-05</td>\n",
       "      <td>2013</td>\n",
       "      <td>1</td>\n",
       "      <td>5</td>\n",
       "      <td>1</td>\n",
       "      <td>1</td>\n",
       "      <td>Winter</td>\n",
       "    </tr>\n",
       "    <tr>\n",
       "      <th>1017205</th>\n",
       "      <td>2013-01-04</td>\n",
       "      <td>2013</td>\n",
       "      <td>1</td>\n",
       "      <td>4</td>\n",
       "      <td>1</td>\n",
       "      <td>1</td>\n",
       "      <td>Winter</td>\n",
       "    </tr>\n",
       "    <tr>\n",
       "      <th>1017206</th>\n",
       "      <td>2013-01-03</td>\n",
       "      <td>2013</td>\n",
       "      <td>1</td>\n",
       "      <td>3</td>\n",
       "      <td>1</td>\n",
       "      <td>1</td>\n",
       "      <td>Winter</td>\n",
       "    </tr>\n",
       "    <tr>\n",
       "      <th>1017207</th>\n",
       "      <td>2013-01-02</td>\n",
       "      <td>2013</td>\n",
       "      <td>1</td>\n",
       "      <td>2</td>\n",
       "      <td>1</td>\n",
       "      <td>1</td>\n",
       "      <td>Winter</td>\n",
       "    </tr>\n",
       "    <tr>\n",
       "      <th>1017208</th>\n",
       "      <td>2013-01-01</td>\n",
       "      <td>2013</td>\n",
       "      <td>1</td>\n",
       "      <td>1</td>\n",
       "      <td>1</td>\n",
       "      <td>1</td>\n",
       "      <td>Winter</td>\n",
       "    </tr>\n",
       "  </tbody>\n",
       "</table>\n",
       "<p>1017209 rows × 7 columns</p>\n",
       "</div>"
      ],
      "text/plain": [
       "              Date  Year  Month  Day  Week  Quarter  Season\n",
       "0       2015-07-31  2015      7   31    31        3  Summer\n",
       "1       2015-07-30  2015      7   30    31        3  Summer\n",
       "2       2015-07-29  2015      7   29    31        3  Summer\n",
       "3       2015-07-28  2015      7   28    31        3  Summer\n",
       "4       2015-07-27  2015      7   27    31        3  Summer\n",
       "...            ...   ...    ...  ...   ...      ...     ...\n",
       "1017204 2013-01-05  2013      1    5     1        1  Winter\n",
       "1017205 2013-01-04  2013      1    4     1        1  Winter\n",
       "1017206 2013-01-03  2013      1    3     1        1  Winter\n",
       "1017207 2013-01-02  2013      1    2     1        1  Winter\n",
       "1017208 2013-01-01  2013      1    1     1        1  Winter\n",
       "\n",
       "[1017209 rows x 7 columns]"
      ]
     },
     "execution_count": 28,
     "metadata": {},
     "output_type": "execute_result"
    }
   ],
   "source": [
    "#newly engineered features\n",
    "df_new[['Date','Year','Month','Day','Week','Quarter','Season']]"
   ]
  },
  {
   "cell_type": "code",
   "execution_count": 31,
   "metadata": {},
   "outputs": [
    {
     "data": {
      "image/png": "[encoded data removed]",
      "text/plain": [
       "<Figure size 1080x576 with 1 Axes>"
      ]
     },
     "metadata": {
      "needs_background": "light"
     },
     "output_type": "display_data"
    }
   ],
   "source": [
    "import matplotlib.pyplot as plt\n",
    "%matplotlib inline\n",
    "\n",
    "#histogram to study daily store sales\n",
    "plt.figure(figsize=(15,8))\n",
    "plt.hist(df_new['Sales'])\n",
    "plt.title('Histogram for store sales')\n",
    "plt.xlabel('bins')\n",
    "plt.ylabel('frequency')\n",
    "plt.show()"
   ]
  },
  {
   "cell_type": "markdown",
   "metadata": {},
   "source": [
    "The range is from 0 to 40000 but there's barely any data after 20,000 thus most store sales range 0-20000.it might be\n",
    "worth to reomove the outliers"
   ]
  },
  {
   "cell_type": "code",
   "execution_count": 32,
   "metadata": {},
   "outputs": [
    {
     "data": {
      "text/plain": [
       "array([[<matplotlib.axes._subplots.AxesSubplot object at 0x7f74c26af250>,\n",
       "        <matplotlib.axes._subplots.AxesSubplot object at 0x7f74c26d5700>,\n",
       "        <matplotlib.axes._subplots.AxesSubplot object at 0x7f74c2680bb0>,\n",
       "        <matplotlib.axes._subplots.AxesSubplot object at 0x7f74c262f0d0>],\n",
       "       [<matplotlib.axes._subplots.AxesSubplot object at 0x7f74c25e74f0>,\n",
       "        <matplotlib.axes._subplots.AxesSubplot object at 0x7f74c280ff70>,\n",
       "        <matplotlib.axes._subplots.AxesSubplot object at 0x7f74c27d17f0>,\n",
       "        <matplotlib.axes._subplots.AxesSubplot object at 0x7f74c2798e50>],\n",
       "       [<matplotlib.axes._subplots.AxesSubplot object at 0x7f74c25b8b80>,\n",
       "        <matplotlib.axes._subplots.AxesSubplot object at 0x7f74c2565070>,\n",
       "        <matplotlib.axes._subplots.AxesSubplot object at 0x7f74c251d4c0>,\n",
       "        <matplotlib.axes._subplots.AxesSubplot object at 0x7f74c2548910>],\n",
       "       [<matplotlib.axes._subplots.AxesSubplot object at 0x7f74c24f6d60>,\n",
       "        <matplotlib.axes._subplots.AxesSubplot object at 0x7f74c24b01f0>,\n",
       "        <matplotlib.axes._subplots.AxesSubplot object at 0x7f74c245c640>,\n",
       "        <matplotlib.axes._subplots.AxesSubplot object at 0x7f74c2489a90>],\n",
       "       [<matplotlib.axes._subplots.AxesSubplot object at 0x7f74c2437ee0>,\n",
       "        <matplotlib.axes._subplots.AxesSubplot object at 0x7f74c23f0370>,\n",
       "        <matplotlib.axes._subplots.AxesSubplot object at 0x7f74c239b760>,\n",
       "        <matplotlib.axes._subplots.AxesSubplot object at 0x7f74c23bdd60>]],\n",
       "      dtype=object)"
      ]
     },
     "execution_count": 32,
     "metadata": {},
     "output_type": "execute_result"
    },
    {
     "data": {
      "image/png": "[encoded data removed]",
      "text/plain": [
       "<Figure size 1440x720 with 20 Axes>"
      ]
     },
     "metadata": {
      "needs_background": "light"
     },
     "output_type": "display_data"
    }
   ],
   "source": [
    "#histogram for all numeric columns\n",
    "df_new.hist(figsize=(20,10))"
   ]
  },
  {
   "cell_type": "markdown",
   "metadata": {},
   "source": [
    "from the hist we note promo,promo2,open and school holiday are binary categorical features.x-axis-is value,y apparance count.They are actually categorical features that are encoded.Promo2 is well distributed between two distcinct values.customer numbers range mostly from 0 to 2000. a few stores have 7000 but these are outliers\n",
    "\n",
    "We also have to check missing values.isnull returns a truth value of all samples.passing sum counts number of nulls within each group.we can divide by the total number of rows to get the percentage of course x 100\n"
   ]
  },
  {
   "cell_type": "code",
   "execution_count": 35,
   "metadata": {},
   "outputs": [
    {
     "data": {
      "text/plain": [
       "Store                         0.000000\n",
       "DayOfWeek                     0.000000\n",
       "Date                          0.000000\n",
       "Sales                         0.000000\n",
       "Customers                     0.000000\n",
       "Open                          0.000000\n",
       "Promo                         0.000000\n",
       "StateHoliday                  0.000000\n",
       "SchoolHoliday                 0.000000\n",
       "StoreType                     0.000000\n",
       "Assortment                    0.000000\n",
       "CompetitionDistance           0.259730\n",
       "CompetitionOpenSinceMonth    31.787764\n",
       "CompetitionOpenSinceYear     31.787764\n",
       "Promo2                        0.000000\n",
       "Promo2SinceWeek              49.943620\n",
       "Promo2SinceYear              49.943620\n",
       "PromoInterval                49.943620\n",
       "Month                         0.000000\n",
       "Quarter                       0.000000\n",
       "Year                          0.000000\n",
       "Day                           0.000000\n",
       "Week                          0.000000\n",
       "Season                        0.000000\n",
       "dtype: float64"
      ]
     },
     "execution_count": 35,
     "metadata": {},
     "output_type": "execute_result"
    }
   ],
   "source": [
    "df_new.isnull().sum()/df_new.shape[0]*100"
   ]
  },
  {
   "cell_type": "code",
   "execution_count": 40,
   "metadata": {},
   "outputs": [
    {
     "data": {
      "text/plain": [
       "0.0"
      ]
     },
     "execution_count": 40,
     "metadata": {},
     "output_type": "execute_result"
    }
   ],
   "source": [
    "#df_new['CompetitionDistance'].mode()[0]\n",
    "df_new['CompetitionDistance']=df_new['CompetitionDistance'].fillna(df_new['CompetitionDistance'].mode()[0])\n",
    "df_new['CompetitionDistance'].isnull().sum()/df_new.shape[0]*100"
   ]
  },
  {
   "cell_type": "code",
   "execution_count": 43,
   "metadata": {},
   "outputs": [
    {
     "data": {
      "image/png": "[encoded data removed]",
      "text/plain": [
       "<Figure size 432x288 with 1 Axes>"
      ]
     },
     "metadata": {},
     "output_type": "display_data"
    }
   ],
   "source": [
    "#available categorical featurres ares store type,assortment,season\n",
    "import seaborn as sns\n",
    "sns.set(style=\"whitegrid\")\n",
    "#plot for average sales across different seasons\n",
    "ax = sns.barplot(x='Season',y='Sales',data=df_new)"
   ]
  },
  {
   "cell_type": "code",
   "execution_count": 44,
   "metadata": {},
   "outputs": [
    {
     "data": {
      "image/png": "[encoded data removed]",
      "text/plain": [
       "<Figure size 432x288 with 1 Axes>"
      ]
     },
     "metadata": {},
     "output_type": "display_data"
    }
   ],
   "source": [
    "#plot for average sales across different assortments\n",
    "ax=sns.barplot(x='Assortment',y='Sales',data=df_new)"
   ]
  },
  {
   "cell_type": "code",
   "execution_count": 48,
   "metadata": {},
   "outputs": [
    {
     "data": {
      "image/png": "[encoded data removed]",
      "text/plain": [
       "<Figure size 432x288 with 1 Axes>"
      ]
     },
     "metadata": {},
     "output_type": "display_data"
    }
   ],
   "source": [
    "#create bar plot for average sales across different store types\n",
    "a=sns.barplot(x='StoreType',y='Sales',data=df_new)"
   ]
  },
  {
   "cell_type": "markdown",
   "metadata": {},
   "source": [
    "we can change the aggregation function using estimator paramater within plot function\n",
    "sales acrross seasons barely seem to differ.but there is  a trend on assortments where assortment b seems highest\n",
    "store type also has a unique relationship with the sales acrross stores.fairly higher sales for store type b.but before w\n",
    "we conclude that,what if the number of stores in the store types is disproportiante or skewed.\n",
    "We will use a new aggregation function to showcase counts as the metrics for the bar chat"
   ]
  },
  {
   "cell_type": "code",
   "execution_count": 56,
   "metadata": {},
   "outputs": [
    {
     "data": {
      "text/plain": [
       "262015"
      ]
     },
     "execution_count": 56,
     "metadata": {},
     "output_type": "execute_result"
    }
   ],
   "source": [
    "np.size(np.where(df_new['Season']=='Summer')[0])"
   ]
  },
  {
   "cell_type": "code",
   "execution_count": 57,
   "metadata": {},
   "outputs": [
    {
     "data": {
      "image/png": "[encoded data removed]",
      "text/plain": [
       "<Figure size 432x288 with 1 Axes>"
      ]
     },
     "metadata": {},
     "output_type": "display_data"
    }
   ],
   "source": [
    "ax= sns.barplot(x='Season',y='Sales',data=df_new,estimator=np.size)"
   ]
  },
  {
   "cell_type": "code",
   "execution_count": 58,
   "metadata": {},
   "outputs": [
    {
     "data": {
      "image/png": "[encoded data removed]",
      "text/plain": [
       "<Figure size 432x288 with 1 Axes>"
      ]
     },
     "metadata": {},
     "output_type": "display_data"
    }
   ],
   "source": [
    "ax=sns.barplot(x='Assortment',y='Sales',data=df_new,estimator=np.size)"
   ]
  },
  {
   "cell_type": "code",
   "execution_count": 59,
   "metadata": {},
   "outputs": [
    {
     "data": {
      "image/png": "[encoded data removed]",
      "text/plain": [
       "<Figure size 432x288 with 1 Axes>"
      ]
     },
     "metadata": {},
     "output_type": "display_data"
    }
   ],
   "source": [
    "ax=sns.barplot(x='StoreType',y='Sales',data=df_new,estimator=np.size)"
   ]
  },
  {
   "cell_type": "markdown",
   "metadata": {},
   "source": [
    "the distrinution of data points acrross different classes within a category  is skewed.assortment and store type b have\n",
    "significantly low number of data points or stores .Therefore our initial observation of the relationship is not true\n",
    "it was based on average"
   ]
  },
  {
   "cell_type": "code",
   "execution_count": 85,
   "metadata": {},
   "outputs": [
    {
     "name": "stdout",
     "output_type": "stream",
     "text": [
      "shape of data:(1017209, 44)\n",
      "Distinct Values:[dtype('int64') dtype('O') dtype('float64')]\n",
      "column remaning as object Index(['StateHoliday'], dtype='object')\n"
     ]
    }
   ],
   "source": [
    "from sklearn.preprocessing import LabelEncoder,OneHotEncoder\n",
    "target=['Sales']\n",
    "numeric_columns=['Customers','Open','Promo','Promo2','StateHoliday','SchoolHoliday','CompetitionDistance']\n",
    "categorical_columns = ['DayOfWeek','Quarter','Month','Year','StoreType','Assortment','Season']\n",
    "#define function to intake raw data frame,columns and return one hot encoded data\n",
    "def create_ohe(df,col):\n",
    "    le =LabelEncoder()\n",
    "    a=le.fit_transform(df_new[col]).reshape(-1,1)\n",
    "    ohe = OneHotEncoder(sparse=False)\n",
    "    column_names = [col+\"_\"+str(i) for i in le.classes_]\n",
    "    return (pd.DataFrame(ohe.fit_transform(a),columns=column_names))\n",
    "temp = df_new[numeric_columns]\n",
    "for i,column in enumerate(categorical_columns):\n",
    "         \n",
    "    temp_df = create_ohe(df,column)\n",
    "    temp = pd.concat([temp,temp_df],axis=1)\n",
    "    \n",
    "    \n",
    "print(\"shape of data:{}\".format(temp.shape))\n",
    "print(\"Distinct Values:{}\".format(temp.dtypes.unique()))\n",
    "print(\"column remaning as object\",temp.columns[temp.dtypes=='object'])"
   ]
  },
  {
   "cell_type": "code",
   "execution_count": 86,
   "metadata": {},
   "outputs": [
    {
     "data": {
      "text/plain": [
       "array(['0', 'a', 'b', 'c', 0], dtype=object)"
      ]
     },
     "execution_count": 86,
     "metadata": {},
     "output_type": "execute_result"
    }
   ],
   "source": [
    "temp['StateHoliday'].unique()"
   ]
  },
  {
   "cell_type": "code",
   "execution_count": 87,
   "metadata": {},
   "outputs": [
    {
     "data": {
      "text/plain": [
       "array([dtype('int64'), dtype('float64')], dtype=object)"
      ]
     },
     "execution_count": 87,
     "metadata": {},
     "output_type": "execute_result"
    }
   ],
   "source": [
    "temp['StateHoliday'] = np.where(temp['StateHoliday']=='0',0,1)\n",
    "temp.dtypes.unique()"
   ]
  },
  {
   "cell_type": "code",
   "execution_count": 92,
   "metadata": {},
   "outputs": [],
   "source": [
    "from sklearn.model_selection import train_test_split\n",
    "#Create train and test dataset with an 80:20 splitChapter 3  Deep Neural Networks for superviseD learNiNg: regressioN\n",
    "x_train, x_test, y_train, y_test = train_test_split(temp,df_new[target],test_size=0.2,random_state=2018)\n",
    "#Further divide training dataset into train and validation dataset with an 90:10 split\n",
    "x_train, x_val, y_train, y_val = train_test_split(x_train, y_train,test_size=0.1,random_state=2018)"
   ]
  },
  {
   "cell_type": "markdown",
   "metadata": {},
   "source": [
    "Defining model baseline perfomance-for this kind of regression task,we could use the mean of the target as prediction\n",
    "of all samples.we will use mean absolute error to perfom this test"
   ]
  },
  {
   "cell_type": "code",
   "execution_count": 93,
   "metadata": {},
   "outputs": [
    {
     "name": "stdout",
     "output_type": "stream",
     "text": [
      "Average sales Sales    5773.099997\n",
      "dtype: float64\n"
     ]
    }
   ],
   "source": [
    "mean_sales = y_train.mean()\n",
    "print(\"Average sales\",mean_sales)"
   ]
  },
  {
   "cell_type": "code",
   "execution_count": 98,
   "metadata": {},
   "outputs": [
    {
     "name": "stdout",
     "output_type": "stream",
     "text": [
      "MAE for Test data 2883.587604303215\n"
     ]
    }
   ],
   "source": [
    "#if we assume the mean sales as the prediction for all samples in the test,what does the MAE metric look like\n",
    "print(\"MAE for Test data\",abs(y_test-mean_sales).mean()[0])#dtype is second index"
   ]
  },
  {
   "cell_type": "markdown",
   "metadata": {},
   "source": [
    "so our baseline score is 2884.if our model doesnt deliver better than that then its barely useleful"
   ]
  },
  {
   "cell_type": "code",
   "execution_count": 101,
   "metadata": {},
   "outputs": [
    {
     "name": "stdout",
     "output_type": "stream",
     "text": [
      "Epoch 1/10\n",
      "11444/11444 [==============================] - 11s 961us/step - loss: 947.0740 - mean_absolute_error: 947.0740 - val_loss: 814.1187 - val_mean_absolute_error: 814.1187\n",
      "Epoch 2/10\n",
      "11444/11444 [==============================] - 11s 955us/step - loss: 776.5817 - mean_absolute_error: 776.5817 - val_loss: 746.2153 - val_mean_absolute_error: 746.2153\n",
      "Epoch 3/10\n",
      "11444/11444 [==============================] - 11s 952us/step - loss: 738.3820 - mean_absolute_error: 738.3820 - val_loss: 720.4607 - val_mean_absolute_error: 720.4607\n",
      "Epoch 4/10\n",
      "11444/11444 [==============================] - 11s 960us/step - loss: 721.4955 - mean_absolute_error: 721.4955 - val_loss: 736.2231 - val_mean_absolute_error: 736.2231\n",
      "Epoch 5/10\n",
      "11444/11444 [==============================] - 10s 907us/step - loss: 712.2213 - mean_absolute_error: 712.2213 - val_loss: 705.2410 - val_mean_absolute_error: 705.2410\n",
      "Epoch 6/10\n",
      "11444/11444 [==============================] - 11s 991us/step - loss: 705.4008 - mean_absolute_error: 705.4008 - val_loss: 701.9588 - val_mean_absolute_error: 701.9588\n",
      "Epoch 7/10\n",
      "11444/11444 [==============================] - 12s 1ms/step - loss: 699.7545 - mean_absolute_error: 699.7545 - val_loss: 695.9290 - val_mean_absolute_error: 695.9290\n",
      "Epoch 8/10\n",
      "11444/11444 [==============================] - 10s 905us/step - loss: 694.1337 - mean_absolute_error: 694.1337 - val_loss: 690.9132 - val_mean_absolute_error: 690.9132\n",
      "Epoch 9/10\n",
      "11444/11444 [==============================] - 12s 1ms/step - loss: 690.5341 - mean_absolute_error: 690.5341 - val_loss: 686.7505 - val_mean_absolute_error: 686.7505\n",
      "Epoch 10/10\n",
      "11444/11444 [==============================] - 11s 983us/step - loss: 686.3928 - mean_absolute_error: 686.3928 - val_loss: 694.7552 - val_mean_absolute_error: 694.7552\n"
     ]
    },
    {
     "data": {
      "text/plain": [
       "<tensorflow.python.keras.callbacks.History at 0x7f746d48d130>"
      ]
     },
     "execution_count": 101,
     "metadata": {},
     "output_type": "execute_result"
    }
   ],
   "source": [
    "from keras.models import Sequential\n",
    "from keras.layers import Dense,Dropout\n",
    "\n",
    "model = Sequential()\n",
    "model.add(Dense(150,input_dim=44,activation='relu'))#input dimension 44 since width of training data\n",
    "model.add(Dense(1,activation='linear'))\n",
    "#configure model\n",
    "model.compile(optimizer='adam',loss='mean_absolute_error',metrics=['mean_absolute_error'])\n",
    "\n",
    "#train the model\n",
    "model.fit(x_train.values,y_train.values,validation_data=(x_val,y_val),epochs=10,batch_size=64)\n",
    "#takes a batch of 64 samples and passes each through the network,measures the loss metric and uses optimization \n",
    "#to update weights\n",
    "#at the end of each epoch model uses validation dataset to evaluate and report the metrics we confgured\n",
    "#the model perfm=omnace was 694 that is way better than the baseline score"
   ]
  },
  {
   "cell_type": "code",
   "execution_count": 103,
   "metadata": {},
   "outputs": [
    {
     "name": "stdout",
     "output_type": "stream",
     "text": [
      "6358/6358 [==============================] - 6s 951us/step - loss: 690.7510 - mean_absolute_error: 690.7510\n",
      "Model Metric <tensorflow.python.keras.metrics.Mean object at 0x7f746d546b50> : 690.75\n",
      "Model Metric <tensorflow.python.keras.metrics.MeanMetricWrapper object at 0x7f746d35dc40> : 690.75\n"
     ]
    }
   ],
   "source": [
    "#testing model perfomance\n",
    "result = model.evaluate(x_test.values,y_test.values)\n",
    "for i in range(len(model.metrics_names)):\n",
    "    print('Model Metric',model.metrics[i],\":\",round(result[i],2))\n",
    "#we get a relatively consistent perfomance on the test dataset too"
   ]
  },
  {
   "cell_type": "markdown",
   "metadata": {},
   "source": [
    "to improve the learning in sync with our use case,we can use mean squared error for the loss function.the squaring helps penalize higher\n",
    "error rates even more"
   ]
  },
  {
   "cell_type": "code",
   "execution_count": 106,
   "metadata": {},
   "outputs": [
    {
     "name": "stdout",
     "output_type": "stream",
     "text": [
      "Epoch 1/10\n",
      "11444/11444 [==============================] - 24s 2ms/step - loss: 1783840.5000 - mean_absolute_error: 855.7635 - val_loss: 1203283.3750 - val_mean_absolute_error: 757.8085\n",
      "Epoch 2/10\n",
      "11444/11444 [==============================] - 24s 2ms/step - loss: 1147685.3750 - mean_absolute_error: 718.3858 - val_loss: 1197297.1250 - val_mean_absolute_error: 763.4330\n",
      "Epoch 3/10\n",
      "11444/11444 [==============================] - 24s 2ms/step - loss: 1087644.1250 - mean_absolute_error: 699.1197 - val_loss: 1058861.6250 - val_mean_absolute_error: 703.6408\n",
      "Epoch 4/10\n",
      "11444/11444 [==============================] - 24s 2ms/step - loss: 1058946.3750 - mean_absolute_error: 690.3536 - val_loss: 988910.5000 - val_mean_absolute_error: 676.8153\n",
      "Epoch 5/10\n",
      "11444/11444 [==============================] - 24s 2ms/step - loss: 1034745.5000 - mean_absolute_error: 682.4503 - val_loss: 1016850.6875 - val_mean_absolute_error: 698.5904\n",
      "Epoch 6/10\n",
      "11444/11444 [==============================] - 24s 2ms/step - loss: 1007783.5625 - mean_absolute_error: 674.3055 - val_loss: 1003208.3125 - val_mean_absolute_error: 672.2889\n",
      "Epoch 7/10\n",
      "11444/11444 [==============================] - 25s 2ms/step - loss: 994010.3750 - mean_absolute_error: 670.7578 - val_loss: 926439.2500 - val_mean_absolute_error: 657.0784\n",
      "Epoch 8/10\n",
      "11444/11444 [==============================] - 24s 2ms/step - loss: 972424.2500 - mean_absolute_error: 663.3585 - val_loss: 1000501.2500 - val_mean_absolute_error: 685.8889\n",
      "Epoch 9/10\n",
      "11444/11444 [==============================] - 25s 2ms/step - loss: 958906.7500 - mean_absolute_error: 659.1711 - val_loss: 885938.1875 - val_mean_absolute_error: 639.6606\n",
      "Epoch 10/10\n",
      "11444/11444 [==============================] - 25s 2ms/step - loss: 947070.9375 - mean_absolute_error: 655.5989 - val_loss: 936544.0000 - val_mean_absolute_error: 656.2185\n",
      "6358/6358 [==============================] - 5s 855us/step - loss: 939399.2500 - mean_absolute_error: 653.9443\n",
      "Metric: loss : 939399.25\n",
      "Metric: mean_absolute_error : 653.94\n"
     ]
    }
   ],
   "source": [
    "model = Sequential()\n",
    "model.add(Dense(150,input_dim=44,activation='relu'))\n",
    "model.add(Dense(150,activation='relu'))\n",
    "model.add(Dense(150,activation='relu'))\n",
    "model.add(Dense(150,activation='linear'))\n",
    "model.compile(optimizer='adam',loss='mean_squared_error',metrics=['mean_absolute_error'])\n",
    "\n",
    "history = model.fit(x_train,y_train,validation_data=(x_val,y_val),epochs=10,batch_size=64)\n",
    "\n",
    "result=model.evaluate(x_test,y_test)\n",
    "\n",
    "for i in range(len(model.metrics_names)):\n",
    "    print(\"Metric:\",model.metrics_names[i],\":\",str(round(result[i],2)))"
   ]
  },
  {
   "cell_type": "code",
   "execution_count": 107,
   "metadata": {},
   "outputs": [
    {
     "name": "stdout",
     "output_type": "stream",
     "text": [
      "Epoch 1/15\n",
      "11444/11444 [==============================] - 31s 3ms/step - loss: 1792879.0000 - mean_absolute_error: 862.1193 - val_loss: 1194029.1250 - val_mean_absolute_error: 724.5059\n",
      "Epoch 2/15\n",
      "11444/11444 [==============================] - 31s 3ms/step - loss: 1161721.8750 - mean_absolute_error: 720.5101 - val_loss: 1136081.6250 - val_mean_absolute_error: 702.2477\n",
      "Epoch 3/15\n",
      "11444/11444 [==============================] - 32s 3ms/step - loss: 1093489.2500 - mean_absolute_error: 699.2210 - val_loss: 988441.3750 - val_mean_absolute_error: 670.4235\n",
      "Epoch 4/15\n",
      "11444/11444 [==============================] - 32s 3ms/step - loss: 1065524.3750 - mean_absolute_error: 690.0630 - val_loss: 1093422.3750 - val_mean_absolute_error: 701.7241\n",
      "Epoch 5/15\n",
      "11444/11444 [==============================] - 33s 3ms/step - loss: 1043895.6875 - mean_absolute_error: 683.8044 - val_loss: 1051398.7500 - val_mean_absolute_error: 695.6481\n",
      "Epoch 6/15\n",
      "11444/11444 [==============================] - 33s 3ms/step - loss: 1023420.6250 - mean_absolute_error: 677.5204 - val_loss: 981023.9375 - val_mean_absolute_error: 664.2388\n",
      "Epoch 7/15\n",
      "11444/11444 [==============================] - 32s 3ms/step - loss: 1001264.5000 - mean_absolute_error: 671.5377 - val_loss: 965151.1250 - val_mean_absolute_error: 659.1154\n",
      "Epoch 8/15\n",
      "11444/11444 [==============================] - 32s 3ms/step - loss: 986995.7500 - mean_absolute_error: 666.8994 - val_loss: 958647.3125 - val_mean_absolute_error: 655.7595\n",
      "Epoch 9/15\n",
      "11444/11444 [==============================] - 33s 3ms/step - loss: 972615.3125 - mean_absolute_error: 663.6917 - val_loss: 1058479.2500 - val_mean_absolute_error: 720.0082\n",
      "Epoch 10/15\n",
      "11444/11444 [==============================] - 33s 3ms/step - loss: 957598.8125 - mean_absolute_error: 658.8029 - val_loss: 897742.1250 - val_mean_absolute_error: 643.6469\n",
      "Epoch 11/15\n",
      "11444/11444 [==============================] - 32s 3ms/step - loss: 941046.2500 - mean_absolute_error: 653.9019 - val_loss: 919049.7500 - val_mean_absolute_error: 650.8211\n",
      "Epoch 12/15\n",
      "11444/11444 [==============================] - 32s 3ms/step - loss: 936147.3750 - mean_absolute_error: 651.3449 - val_loss: 860958.0625 - val_mean_absolute_error: 630.1594\n",
      "Epoch 13/15\n",
      "11444/11444 [==============================] - 33s 3ms/step - loss: 913746.8750 - mean_absolute_error: 644.2501 - val_loss: 1096000.5000 - val_mean_absolute_error: 725.2122\n",
      "Epoch 14/15\n",
      "11444/11444 [==============================] - 33s 3ms/step - loss: 908298.5625 - mean_absolute_error: 642.1788 - val_loss: 893314.5625 - val_mean_absolute_error: 659.7326\n",
      "Epoch 15/15\n",
      "11444/11444 [==============================] - 33s 3ms/step - loss: 890993.5625 - mean_absolute_error: 635.9702 - val_loss: 876286.0625 - val_mean_absolute_error: 631.6125\n",
      "6358/6358 [==============================] - 6s 988us/step - loss: 877731.6875 - mean_absolute_error: 628.3939\n",
      "Metric: loss : 877731.69\n",
      "Metric: mean_absolute_error : 628.39\n"
     ]
    }
   ],
   "source": [
    "model = Sequential()\n",
    "model.add(Dense(150,input_dim=44,activation='relu'))\n",
    "model.add(Dense(150,activation='relu'))\n",
    "model.add(Dense(150,activation='relu'))\n",
    "model.add(Dense(150,activation='relu'))\n",
    "model.add(Dense(150,activation='relu'))\n",
    "model.add(Dense(150,activation='linear'))\n",
    "model.compile(optimizer='adam',loss='mean_squared_error',metrics=['mean_absolute_error'])\n",
    "\n",
    "history = model.fit(x_train,y_train,validation_data=(x_val,y_val),epochs=15,batch_size=64)\n",
    "\n",
    "result=model.evaluate(x_test,y_test)\n",
    "\n",
    "for i in range(len(model.metrics_names)):\n",
    "    print(\"Metric:\",model.metrics_names[i],\":\",str(round(result[i],2)))"
   ]
  },
  {
   "cell_type": "code",
   "execution_count": 108,
   "metadata": {},
   "outputs": [
    {
     "name": "stdout",
     "output_type": "stream",
     "text": [
      "Epoch 1/15\n",
      "11444/11444 [==============================] - 29s 3ms/step - loss: 1671009.0000 - mean_absolute_error: 842.8779 - val_loss: 1311325.3750 - val_mean_absolute_error: 796.0421\n",
      "Epoch 2/15\n",
      "11444/11444 [==============================] - 31s 3ms/step - loss: 1152869.3750 - mean_absolute_error: 722.8010 - val_loss: 1025502.0625 - val_mean_absolute_error: 692.2610\n",
      "Epoch 3/15\n",
      "11444/11444 [==============================] - 30s 3ms/step - loss: 1089329.6250 - mean_absolute_error: 702.1957 - val_loss: 1032937.9375 - val_mean_absolute_error: 690.3019\n",
      "Epoch 4/15\n",
      "11444/11444 [==============================] - 28s 2ms/step - loss: 1054509.2500 - mean_absolute_error: 690.5266 - val_loss: 1068632.7500 - val_mean_absolute_error: 691.6988\n",
      "Epoch 5/15\n",
      "11444/11444 [==============================] - 31s 3ms/step - loss: 1031436.4375 - mean_absolute_error: 682.1732 - val_loss: 987996.6250 - val_mean_absolute_error: 667.0045\n",
      "Epoch 6/15\n",
      "11444/11444 [==============================] - 29s 3ms/step - loss: 1014209.9375 - mean_absolute_error: 676.6902 - val_loss: 975196.8125 - val_mean_absolute_error: 668.9065\n",
      "Epoch 7/15\n",
      "11444/11444 [==============================] - 31s 3ms/step - loss: 997967.6250 - mean_absolute_error: 671.8065 - val_loss: 953850.3125 - val_mean_absolute_error: 666.0154\n",
      "Epoch 8/15\n",
      "11444/11444 [==============================] - 31s 3ms/step - loss: 981308.6875 - mean_absolute_error: 666.6972 - val_loss: 937874.1250 - val_mean_absolute_error: 656.5016\n",
      "Epoch 9/15\n",
      "11444/11444 [==============================] - 30s 3ms/step - loss: 966012.0625 - mean_absolute_error: 661.9232 - val_loss: 935426.1875 - val_mean_absolute_error: 660.8472\n",
      "Epoch 10/15\n",
      "11444/11444 [==============================] - 27s 2ms/step - loss: 951764.1875 - mean_absolute_error: 657.4254 - val_loss: 899288.4375 - val_mean_absolute_error: 645.6718\n",
      "Epoch 11/15\n",
      "11444/11444 [==============================] - 27s 2ms/step - loss: 940966.1875 - mean_absolute_error: 653.5779 - val_loss: 906450.6250 - val_mean_absolute_error: 653.3771\n",
      "Epoch 12/15\n",
      "11444/11444 [==============================] - 31s 3ms/step - loss: 929917.0625 - mean_absolute_error: 650.5051 - val_loss: 964512.3750 - val_mean_absolute_error: 670.5411\n",
      "Epoch 13/15\n",
      "11444/11444 [==============================] - 30s 3ms/step - loss: 922280.3125 - mean_absolute_error: 647.6388 - val_loss: 900187.6250 - val_mean_absolute_error: 642.4517\n",
      "Epoch 14/15\n",
      "11444/11444 [==============================] - 31s 3ms/step - loss: 909187.2500 - mean_absolute_error: 643.5815 - val_loss: 899080.5000 - val_mean_absolute_error: 643.2250\n",
      "Epoch 15/15\n",
      "11444/11444 [==============================] - 30s 3ms/step - loss: 902162.2500 - mean_absolute_error: 641.0961 - val_loss: 899293.3750 - val_mean_absolute_error: 642.8952\n",
      "6358/6358 [==============================] - 7s 1ms/step - loss: 900839.3125 - mean_absolute_error: 639.2160\n",
      "Metric  loss : 900839.31\n",
      "Metric  mean_absolute_error : 639.22\n"
     ]
    }
   ],
   "source": [
    "#we notice some saturation with deeper networks in this case,lets try increasing num of neurons\n",
    "\n",
    "model = Sequential()\n",
    "model.add(Dense(350,input_dim = 44,activation=\"relu\"))\n",
    "model.add(Dense(350,activation=\"relu\"))\n",
    "model.add(Dense(1,activation = \"linear\"))\n",
    "model.compile(optimizer='adam',loss=\"mean_squared_error\",metrics=[\"mean_absolute_error\"])\n",
    "\n",
    "model.fit(x_train,y_train, validation_data=(x_val,y_val), epochs=15,batch_size=64)\n",
    "result = model.evaluate(x_test,y_test)\n",
    "for i in range(len(model.metrics_names)):    \n",
    "    print(\"Metric \",model.metrics_names[i],\":\", str(round(result[i],2)))\n",
    "#we can see quite some improvement with an architecture that was built with high number of neurons.lets try deeper\n",
    "#models for the same architecture"
   ]
  },
  {
   "cell_type": "markdown",
   "metadata": {},
   "source": [
    "We will use a new optional paramater for the model to record the history of various metrics during the training process\n",
    "through adding callbacks parameter"
   ]
  },
  {
   "cell_type": "code",
   "execution_count": 110,
   "metadata": {},
   "outputs": [
    {
     "name": "stdout",
     "output_type": "stream",
     "text": [
      "Epoch 1/15\n",
      "11444/11444 [==============================] - 68s 6ms/step - loss: 1615216.3750 - mean_absolute_error: 836.3278 - val_loss: 1134004.0000 - val_mean_absolute_error: 708.3167\n",
      "Epoch 2/15\n",
      "11444/11444 [==============================] - 63s 5ms/step - loss: 1172502.5000 - mean_absolute_error: 725.4191 - val_loss: 1027401.9375 - val_mean_absolute_error: 677.4990\n",
      "Epoch 3/15\n",
      "11444/11444 [==============================] - 63s 6ms/step - loss: 1105763.3750 - mean_absolute_error: 702.8417 - val_loss: 983855.9375 - val_mean_absolute_error: 671.2853\n",
      "Epoch 4/15\n",
      "11444/11444 [==============================] - 63s 6ms/step - loss: 1074115.1250 - mean_absolute_error: 693.5573 - val_loss: 982586.8750 - val_mean_absolute_error: 676.2660\n",
      "Epoch 5/15\n",
      "11444/11444 [==============================] - 63s 6ms/step - loss: 1042171.3125 - mean_absolute_error: 683.1543 - val_loss: 998469.0000 - val_mean_absolute_error: 670.6021\n",
      "Epoch 6/15\n",
      "11444/11444 [==============================] - 64s 6ms/step - loss: 1021592.5625 - mean_absolute_error: 676.9474 - val_loss: 1052598.3750 - val_mean_absolute_error: 683.6465\n",
      "Epoch 7/15\n",
      "11444/11444 [==============================] - 64s 6ms/step - loss: 996584.8750 - mean_absolute_error: 670.1424 - val_loss: 926139.9375 - val_mean_absolute_error: 652.0450\n",
      "Epoch 8/15\n",
      "11444/11444 [==============================] - 63s 6ms/step - loss: 979302.8750 - mean_absolute_error: 665.2875 - val_loss: 895467.7500 - val_mean_absolute_error: 643.1618\n",
      "Epoch 9/15\n",
      "11444/11444 [==============================] - 63s 6ms/step - loss: 958153.3125 - mean_absolute_error: 658.4322 - val_loss: 896298.6250 - val_mean_absolute_error: 642.2161\n",
      "Epoch 10/15\n",
      "11444/11444 [==============================] - 64s 6ms/step - loss: 938283.8750 - mean_absolute_error: 652.0463 - val_loss: 951614.5000 - val_mean_absolute_error: 653.2365\n",
      "Epoch 11/15\n",
      "11444/11444 [==============================] - 66s 6ms/step - loss: 913833.6250 - mean_absolute_error: 643.4216 - val_loss: 908509.1875 - val_mean_absolute_error: 648.5912\n",
      "Epoch 12/15\n",
      "11444/11444 [==============================] - 71s 6ms/step - loss: 901504.3125 - mean_absolute_error: 638.9111 - val_loss: 852953.2500 - val_mean_absolute_error: 623.0696\n",
      "Epoch 13/15\n",
      "11444/11444 [==============================] - 72s 6ms/step - loss: 884045.0000 - mean_absolute_error: 632.3172 - val_loss: 855191.2500 - val_mean_absolute_error: 621.5844\n",
      "Epoch 14/15\n",
      "11444/11444 [==============================] - 68s 6ms/step - loss: 872069.5000 - mean_absolute_error: 627.6884 - val_loss: 831149.9375 - val_mean_absolute_error: 615.2318\n",
      "Epoch 15/15\n",
      "11444/11444 [==============================] - 73s 6ms/step - loss: 861605.6250 - mean_absolute_error: 623.2758 - val_loss: 923626.0000 - val_mean_absolute_error: 641.7267\n",
      "6358/6358 [==============================] - 11s 2ms/step - loss: 923492.5625 - mean_absolute_error: 638.4959\n",
      "Metric  loss : 923492.56\n",
      "Metric  mean_absolute_error : 638.5\n"
     ]
    }
   ],
   "source": [
    "from keras.callbacks import History\n",
    "\n",
    "history = History()\n",
    "model = Sequential()\n",
    "model.add(Dense(350,input_dim = 44,activation=\"relu\"))\n",
    "model.add(Dense(350,activation=\"relu\"))\n",
    "model.add(Dense(350,activation=\"relu\"))\n",
    "model.add(Dense(350,activation=\"relu\"))\n",
    "model.add(Dense(350,activation=\"relu\"))\n",
    "model.add(Dense(1,activation = \"linear\"))\n",
    "model.compile(optimizer='adam',loss=\"mean_squared_error\",metrics=[\"mean_absolute_error\"])\n",
    "model.fit(x_train,y_train,validation_data=(x_val,y_val),epochs=15,batch_size=64,callbacks=[history])\n",
    "result = model.evaluate(x_test,y_test)\n",
    "for i in range(len(model.metrics_names)):     \n",
    "    print(\"Metric \",model.metrics_names[i],\":\",str(round(result[i],2)))"
   ]
  },
  {
   "cell_type": "code",
   "execution_count": 112,
   "metadata": {},
   "outputs": [
    {
     "data": {
      "image/png": "[encoded data removed]",
      "text/plain": [
       "<Figure size 432x288 with 1 Axes>"
      ]
     },
     "metadata": {},
     "output_type": "display_data"
    }
   ],
   "source": [
    "#We will plot the loss metric accross each epoch\n",
    "plt.plot(history.history['loss'])\n",
    "plt.plot(history.history['val_loss'])\n",
    "plt.title(\"Model training and validation across epochs\")\n",
    "plt.ylabel(\"loss\")\n",
    "plt.xlabel(\"Epochs\")\n",
    "plt.legend(['Train','Validation'],loc='upper right')\n",
    "plt.show()"
   ]
  },
  {
   "cell_type": "code",
   "execution_count": 113,
   "metadata": {},
   "outputs": [
    {
     "name": "stdout",
     "output_type": "stream",
     "text": [
      "        Actual Sales  Predicted Sales\n",
      "115563             0         0.618734\n",
      "832654             0         0.618734\n",
      "769112          2933      3162.780762\n",
      "350588          8602      7156.974121\n",
      "141556          6975      6638.940918\n",
      "84435           9239      7846.776855\n",
      "53018              0         0.618734\n",
      "262419             0         0.618734\n",
      "702267          5885      5002.821777\n",
      "981431             0         0.618734\n"
     ]
    }
   ],
   "source": [
    "#manually predicting from model instead of using model's evaluate function\n",
    "y_test['Prediction'] = model.predict(x_test)\n",
    "y_test.columns = ['Actual Sales','Predicted Sales']\n",
    "print(y_test.head(10))"
   ]
  },
  {
   "cell_type": "code",
   "execution_count": 114,
   "metadata": {},
   "outputs": [
    {
     "name": "stdout",
     "output_type": "stream",
     "text": [
      "MSE: 923491.6218305456\n",
      "MAE: 638.4955019702685\n"
     ]
    }
   ],
   "source": [
    "#manually predicting from model\n",
    "from sklearn.metrics import mean_squared_error,mean_absolute_error\n",
    "print(\"MSE:\",mean_squared_error(y_test['Actual Sales'].values,y_test['Predicted Sales'].values))\n",
    "print(\"MAE:\",mean_absolute_error(y_test['Actual Sales'].values,y_test['Predicted Sales'].values))"
   ]
  },
  {
   "cell_type": "code",
   "execution_count": null,
   "metadata": {},
   "outputs": [],
   "source": []
  }
 ],
 "metadata": {
  "kernelspec": {
   "display_name": "Python 3",
   "language": "python",
   "name": "python3"
  },
  "language_info": {
   "codemirror_mode": {
    "name": "ipython",
    "version": 3
   },
   "file_extension": ".py",
   "mimetype": "text/x-python",
   "name": "python",
   "nbconvert_exporter": "python",
   "pygments_lexer": "ipython3",
   "version": "3.8.3"
  }
 },
 "nbformat": 4,
 "nbformat_minor": 4
}
